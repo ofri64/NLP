{
 "cells": [
  {
   "cell_type": "code",
   "execution_count": 1,
   "metadata": {},
   "outputs": [
    {
     "name": "stderr",
     "output_type": "stream",
     "text": [
      "Using TensorFlow backend.\n"
     ]
    }
   ],
   "source": [
    "from DataProcessor import DataProcessor\n",
    "from main import *"
   ]
  },
  {
   "cell_type": "code",
   "execution_count": 2,
   "metadata": {},
   "outputs": [
    {
     "name": "stdout",
     "output_type": "stream",
     "text": [
      "/Users/uriavron/Dropbox/School/MSc/nlp/git/project/datasets/english/train.conllu\n"
     ]
    }
   ],
   "source": [
    "language = 'english'\n",
    "processor = DataProcessor(name='{0}_all_testing'.format(language))\n",
    "train_path, test_path = datasets_paths(language)\n",
    "print(train_path)"
   ]
  },
  {
   "cell_type": "code",
   "execution_count": 3,
   "metadata": {},
   "outputs": [],
   "source": [
    "processor.process(train_path)"
   ]
  },
  {
   "cell_type": "code",
   "execution_count": 4,
   "metadata": {},
   "outputs": [],
   "source": [
    "from POSTaggers import *\n",
    "tagger = MTLAllFeaturesTagger(processor, n_epochs=5, hidden_size=20)"
   ]
  },
  {
   "cell_type": "code",
   "execution_count": 5,
   "metadata": {},
   "outputs": [],
   "source": [
    "features = processor.get_features()\n",
    "\n",
    "word_dict = processor.get_word2idx_dict()\n",
    "tag_dict = processor.get_tag2idx_dict()\n",
    "   \n",
    "\n",
    "feature_dicts = {k: v for k, v in processor.get_features2idx_dicts().items() if k in features}\n",
    "feature_dicts = feature_dicts.values()\n",
    "\n",
    "x_train, y_train, y_train_features = processor.preprocess_sample(train_path)\n",
    "\n",
    "y_train_features = {k: v for k, v in y_train_features.items() if k in features}\n",
    "y_train_features = y_train_features.values()\n",
    "\n",
    "x_train = processor.transform_to_one_hot(x_train, len(word_dict))\n",
    "y_train = processor.transform_to_one_hot(y_train, len(tag_dict))\n",
    "y_train_features = [processor.transform_to_one_hot(y_train_feature, len(feature_dict)) for\n",
    "                    y_train_feature, feature_dict in zip(y_train_features, feature_dicts)]\n",
    "\n",
    "x_test, y_test, y_test_features = processor.preprocess_sample(test_path)\n",
    "\n",
    "y_test_features = {k: v for k, v in y_test_features.items() if k in features}\n",
    "y_test_features = y_test_features.values()\n",
    "\n",
    "x_test = processor.transform_to_one_hot(x_test, len(word_dict))\n",
    "y_test = processor.transform_to_one_hot(y_test, len(tag_dict))\n",
    "y_test_features = [processor.transform_to_one_hot(y_test_feature, len(feature_dict)) for\n",
    "                   y_test_feature, feature_dict in zip(y_test_features, feature_dicts)]"
   ]
  },
  {
   "cell_type": "code",
   "execution_count": 6,
   "metadata": {},
   "outputs": [
    {
     "name": "stdout",
     "output_type": "stream",
     "text": [
      "__________________________________________________________________________________________________\n",
      "Layer (type)                    Output Shape         Param #     Connected to                     \n",
      "==================================================================================================\n",
      "input_1 (InputLayer)            (None, 40, 4063)     0                                            \n",
      "__________________________________________________________________________________________________\n",
      "dense_1 (Dense)                 (None, 40, 50)       203200      input_1[0][0]                    \n",
      "__________________________________________________________________________________________________\n",
      "masking_1 (Masking)             (None, 40, 50)       0           dense_1[0][0]                    \n",
      "__________________________________________________________________________________________________\n",
      "dropout_1 (Dropout)             (None, 40, 50)       0           masking_1[0][0]                  \n",
      "__________________________________________________________________________________________________\n",
      "dense_2 (Dense)                 (None, 40, 20)       1020        dropout_1[0][0]                  \n",
      "__________________________________________________________________________________________________\n",
      "bidirectional_1 (Bidirectional) (None, 40, 40)       6560        dense_2[0][0]                    \n",
      "__________________________________________________________________________________________________\n",
      "pos (Dense)                     (None, 40, 18)       738         bidirectional_1[0][0]            \n",
      "__________________________________________________________________________________________________\n",
      "degree (Dense)                  (None, 40, 5)        105         dense_2[0][0]                    \n",
      "__________________________________________________________________________________________________\n",
      "number (Dense)                  (None, 40, 4)        84          dense_2[0][0]                    \n",
      "__________________________________________________________________________________________________\n",
      "prontype (Dense)                (None, 40, 7)        147         dense_2[0][0]                    \n",
      "__________________________________________________________________________________________________\n",
      "mood (Dense)                    (None, 40, 3)        63          dense_2[0][0]                    \n",
      "__________________________________________________________________________________________________\n",
      "tense (Dense)                   (None, 40, 4)        84          dense_2[0][0]                    \n",
      "__________________________________________________________________________________________________\n",
      "verbform (Dense)                (None, 40, 6)        126         dense_2[0][0]                    \n",
      "__________________________________________________________________________________________________\n",
      "case (Dense)                    (None, 40, 4)        84          dense_2[0][0]                    \n",
      "__________________________________________________________________________________________________\n",
      "person (Dense)                  (None, 40, 5)        105         dense_2[0][0]                    \n",
      "__________________________________________________________________________________________________\n",
      "definite (Dense)                (None, 40, 4)        84          dense_2[0][0]                    \n",
      "__________________________________________________________________________________________________\n",
      "numtype (Dense)                 (None, 40, 5)        105         dense_2[0][0]                    \n",
      "__________________________________________________________________________________________________\n",
      "gender (Dense)                  (None, 40, 5)        105         dense_2[0][0]                    \n",
      "__________________________________________________________________________________________________\n",
      "poss (Dense)                    (None, 40, 3)        63          dense_2[0][0]                    \n",
      "__________________________________________________________________________________________________\n",
      "polarity (Dense)                (None, 40, 3)        63          dense_2[0][0]                    \n",
      "__________________________________________________________________________________________________\n",
      "reflex (Dense)                  (None, 40, 3)        63          dense_2[0][0]                    \n",
      "==================================================================================================\n",
      "Total params: 212,799\n",
      "Trainable params: 212,799\n",
      "Non-trainable params: 0\n",
      "__________________________________________________________________________________________________\n",
      "None\n",
      "Epoch 1/5\n",
      "2914/2914 [==============================] - 11s 4ms/step - loss: 16.3549 - pos_loss: 1.9022 - degree_loss: 1.4375 - number_loss: 1.0589 - prontype_loss: 1.4651 - mood_loss: 0.7854 - tense_loss: 0.8277 - verbform_loss: 1.4653 - case_loss: 0.8455 - person_loss: 1.0362 - definite_loss: 0.8922 - numtype_loss: 1.0630 - gender_loss: 1.1800 - poss_loss: 0.8240 - polarity_loss: 0.8440 - reflex_loss: 0.7280 - pos_acc: 0.5352 - degree_acc: 0.3822 - number_acc: 0.6736 - prontype_acc: 0.4331 - mood_acc: 0.8522 - tense_acc: 0.9225 - verbform_acc: 0.3641 - case_acc: 0.9406 - person_acc: 0.8313 - definite_acc: 0.8813 - numtype_acc: 0.8206 - gender_acc: 0.7338 - poss_acc: 0.6947 - polarity_acc: 0.6480 - reflex_acc: 0.9412\n",
      "Epoch 2/5\n",
      "2914/2914 [==============================] - 7s 2ms/step - loss: 2.8598 - pos_loss: 1.0974 - degree_loss: 0.2833 - number_loss: 0.1456 - prontype_loss: 0.2550 - mood_loss: 0.0795 - tense_loss: 0.0549 - verbform_loss: 0.2605 - case_loss: 0.0525 - person_loss: 0.0796 - definite_loss: 0.0654 - numtype_loss: 0.0916 - gender_loss: 0.1306 - poss_loss: 0.0898 - polarity_loss: 0.0851 - reflex_loss: 0.0892 - pos_acc: 0.6439 - degree_acc: 0.9724 - number_acc: 0.9994 - prontype_acc: 0.9627 - mood_acc: 0.9998 - tense_acc: 0.9999 - verbform_acc: 0.9922 - case_acc: 0.9999 - person_acc: 0.9999 - definite_acc: 0.9998 - numtype_acc: 0.9996 - gender_acc: 0.9997 - poss_acc: 0.9967 - polarity_acc: 0.9990 - reflex_acc: 0.9997\n",
      "Epoch 3/5\n",
      "2914/2914 [==============================] - 6s 2ms/step - loss: 1.2446 - pos_loss: 1.0228 - degree_loss: 0.0358 - number_loss: 0.0207 - prontype_loss: 0.0290 - mood_loss: 0.0108 - tense_loss: 0.0068 - verbform_loss: 0.0337 - case_loss: 0.0061 - person_loss: 0.0090 - definite_loss: 0.0079 - numtype_loss: 0.0121 - gender_loss: 0.0147 - poss_loss: 0.0114 - polarity_loss: 0.0100 - reflex_loss: 0.0138 - pos_acc: 0.6677 - degree_acc: 1.0000 - number_acc: 1.0000 - prontype_acc: 1.0000 - mood_acc: 1.0000 - tense_acc: 1.0000 - verbform_acc: 1.0000 - case_acc: 1.0000 - person_acc: 1.0000 - definite_acc: 1.0000 - numtype_acc: 1.0000 - gender_acc: 1.0000 - poss_acc: 1.0000 - polarity_acc: 1.0000 - reflex_acc: 1.0000\n",
      "Epoch 4/5\n",
      "2914/2914 [==============================] - 6s 2ms/step - loss: 1.0407 - pos_loss: 0.9484 - degree_loss: 0.0146 - number_loss: 0.0087 - prontype_loss: 0.0116 - mood_loss: 0.0045 - tense_loss: 0.0029 - verbform_loss: 0.0138 - case_loss: 0.0025 - person_loss: 0.0037 - definite_loss: 0.0035 - numtype_loss: 0.0053 - gender_loss: 0.0060 - poss_loss: 0.0050 - polarity_loss: 0.0043 - reflex_loss: 0.0059 - pos_acc: 0.6911 - degree_acc: 1.0000 - number_acc: 1.0000 - prontype_acc: 1.0000 - mood_acc: 1.0000 - tense_acc: 1.0000 - verbform_acc: 1.0000 - case_acc: 1.0000 - person_acc: 1.0000 - definite_acc: 1.0000 - numtype_acc: 1.0000 - gender_acc: 1.0000 - poss_acc: 1.0000 - polarity_acc: 1.0000 - reflex_acc: 1.0000\n",
      "Epoch 5/5\n"
     ]
    },
    {
     "name": "stdout",
     "output_type": "stream",
     "text": [
      "2914/2914 [==============================] - 6s 2ms/step - loss: 0.9006 - pos_loss: 0.8448 - degree_loss: 0.0085 - number_loss: 0.0054 - prontype_loss: 0.0066 - mood_loss: 0.0027 - tense_loss: 0.0019 - verbform_loss: 0.0080 - case_loss: 0.0016 - person_loss: 0.0023 - definite_loss: 0.0023 - numtype_loss: 0.0032 - gender_loss: 0.0035 - poss_loss: 0.0032 - polarity_loss: 0.0027 - reflex_loss: 0.0037 - pos_acc: 0.7161 - degree_acc: 1.0000 - number_acc: 1.0000 - prontype_acc: 1.0000 - mood_acc: 1.0000 - tense_acc: 1.0000 - verbform_acc: 1.0000 - case_acc: 1.0000 - person_acc: 1.0000 - definite_acc: 1.0000 - numtype_acc: 1.0000 - gender_acc: 1.0000 - poss_acc: 1.0000 - polarity_acc: 1.0000 - reflex_acc: 1.0000\n"
     ]
    }
   ],
   "source": [
    "tagger.fit(x_train, [y_train] + y_train_features, callbacks=[])"
   ]
  },
  {
   "cell_type": "code",
   "execution_count": 7,
   "metadata": {},
   "outputs": [
    {
     "name": "stdout",
     "output_type": "stream",
     "text": [
      "769/769 [==============================] - 1s 2ms/step\n",
      "pos_acc: 0.7623862133534584 degree_acc: 1.0 number_acc: 1.0 prontype_acc: 1.0 mood_acc: 1.0 tense_acc: 1.0 verbform_acc: 1.0 case_acc: 1.0 person_acc: 1.0 definite_acc: 1.0 numtype_acc: 1.0 gender_acc: 1.0 poss_acc: 1.0 polarity_acc: 1.0 reflex_acc: 1.0 \n"
     ]
    }
   ],
   "source": [
    "metrics_output = tagger.evaluate_sample(x_test, [y_test] + y_test_features)\n",
    "print_str = \"\"\n",
    "acc = None\n",
    "for metric, value in metrics_output:\n",
    "    if \"acc\" in metric:\n",
    "        if acc is None:  # only update the first acc\n",
    "            acc = value\n",
    "        print_str += \"{0}: {1} \".format(metric, value)\n",
    "        \n",
    "print(print_str)"
   ]
  },
  {
   "cell_type": "code",
   "execution_count": 8,
   "metadata": {},
   "outputs": [
    {
     "name": "stdout",
     "output_type": "stream",
     "text": [
      "['DET', 'NOUN', 'ADP', 'NOUN', 'NOUN', 'NOUN', 'NOUN', 'PUNCT', 'NOUN', 'NOUN']\n",
      "['DET', 'NOUN', 'ADP', 'NOUN', 'NOUN', 'NOUN', 'NOUN', 'PUNCT', 'NOUN', 'NOUN']\n"
     ]
    }
   ],
   "source": [
    "sent = 'The prevalence of discrimination across racial groups in contemporary America:'\n",
    "tags = tagger.predict_pos(sent)\n",
    "print(tags)\n",
    "tags = tagger.predict_pos2(sent)\n",
    "print(tags)"
   ]
  },
  {
   "cell_type": "code",
   "execution_count": 9,
   "metadata": {},
   "outputs": [],
   "source": [
    "# tags = tagger.predict_pos(np.array([onehot_sent]))[0]\n",
    "# [processor.get_idx2tag_dict()[idx] for idx in tags][:sent_len]"
   ]
  },
  {
   "cell_type": "code",
   "execution_count": null,
   "metadata": {},
   "outputs": [],
   "source": []
  }
 ],
 "metadata": {
  "kernelspec": {
   "display_name": "Python 3",
   "language": "python",
   "name": "python3"
  },
  "language_info": {
   "codemirror_mode": {
    "name": "ipython",
    "version": 3
   },
   "file_extension": ".py",
   "mimetype": "text/x-python",
   "name": "python",
   "nbconvert_exporter": "python",
   "pygments_lexer": "ipython3",
   "version": "3.6.5"
  }
 },
 "nbformat": 4,
 "nbformat_minor": 2
}
